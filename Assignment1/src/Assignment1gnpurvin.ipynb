{
 "cells": [
  {
   "cell_type": "markdown",
   "metadata": {},
   "source": [
    "CSC 505 Assignment 1\n",
    "\n",
    "Author: Gregory Purvine\n",
    "\n",
    "Github: gnpurvin\n",
    "\n",
    "9/11/18\n",
    "\n",
    "The goal is to create randomly assigned teams of students from our class. "
   ]
  },
  {
   "cell_type": "markdown",
   "metadata": {},
   "source": [
    "Block 1 populates the recordslist with the records from the student_list.csv file\n",
    "The first line containing the headers is thrown away from the csv file\n",
    "The remaining lines are added to the recordslist as student records"
   ]
  },
  {
   "cell_type": "code",
   "execution_count": null,
   "metadata": {
    "scrolled": true
   },
   "outputs": [],
   "source": [
    "import random\n",
    "import csv\n",
    "\n",
    "recordslist = list();\n",
    "with open('../data/student_list.csv') as recordsfile:\n",
    "    filereader = csv.reader(recordsfile, delimiter=',')\n",
    "    linenum = 0\n",
    "    for row in filereader:\n",
    "        #populates the list object\n",
    "        if linenum == 0:\n",
    "            #throw out the column headers\n",
    "            linenum+=1\n",
    "        else:\n",
    "            recordslist.append(row[0])"
   ]
  },
  {
   "cell_type": "markdown",
   "metadata": {},
   "source": [
    "Block 2 handles user input\n",
    "It prompts the user for how many teams there should be\n",
    "Based on the given team size and size of the recordslist, it also calculates the number of teams and the remainder of students"
   ]
  },
  {
   "cell_type": "code",
   "execution_count": null,
   "metadata": {},
   "outputs": [],
   "source": [
    "numteams = int(input(\"How many teams do you want? \"))\n",
    "while numteams >= len(recordslist) or numteams <= 0:\n",
    "    print(\"Error: Invalid number of teams.\"\n",
    "          + \" Number of teams cannot be less than 1 or greater than the number of students. Try again.\")\n",
    "    numteams = int(input(\"How many teams do you want? \"))\n",
    "    #ensures number of teams is valid\n",
    "teamsize = len(recordslist) // numteams\n",
    "remainder = len(recordslist) % teamsize"
   ]
  },
  {
   "cell_type": "markdown",
   "metadata": {},
   "source": [
    "Block 3 creates a list called teams that contains the lists representing each individual team\n",
    "It then creates a list representing one team and populates it by selecting a random index from recordslist\n",
    "Once the team has the size specified by the user, it is added to the teams list\n",
    "This process is repeated for each team"
   ]
  },
  {
   "cell_type": "code",
   "execution_count": null,
   "metadata": {},
   "outputs": [],
   "source": [
    "teams = list();\n",
    "for i in range(0, numteams):\n",
    "    teami = list();\n",
    "    for j in range(0, teamsize):\n",
    "        teammemberindex = random.randint(0, len(recordslist) - 1)\n",
    "        teammember = recordslist[teammemberindex]\n",
    "        del recordslist[teammemberindex]\n",
    "        teami.append(teammember)\n",
    "    teams.append(teami)"
   ]
  },
  {
   "cell_type": "markdown",
   "metadata": {},
   "source": [
    "Block 4 takes the remainder students and adds them to teams\n",
    "They are added to the first n teams in the teams list (where n = the number of remainder students)\n",
    "Each of the first n teams gets one of the remainder students"
   ]
  },
  {
   "cell_type": "code",
   "execution_count": null,
   "metadata": {},
   "outputs": [],
   "source": [
    "for i in range(0, remainder):\n",
    "    teammemberindex = random.randint(0, len(recordslist) - 1)\n",
    "    teammember = recordslist[teammemberindex]\n",
    "    del recordslist[teammemberindex]\n",
    "    teams[i].append(teammember)"
   ]
  },
  {
   "cell_type": "markdown",
   "metadata": {},
   "source": [
    "Block 5 prints the team lists"
   ]
  },
  {
   "cell_type": "code",
   "execution_count": null,
   "metadata": {},
   "outputs": [],
   "source": [
    "i = 1\n",
    "for team in teams:\n",
    "    print(\"Team \", i, \": \", team)\n",
    "    i += 1"
   ]
  }
 ],
 "metadata": {
  "kernelspec": {
   "display_name": "Python 3",
   "language": "python",
   "name": "python3"
  },
  "language_info": {
   "codemirror_mode": {
    "name": "ipython",
    "version": 3
   },
   "file_extension": ".py",
   "mimetype": "text/x-python",
   "name": "python",
   "nbconvert_exporter": "python",
   "pygments_lexer": "ipython3",
   "version": "3.6.5"
  }
 },
 "nbformat": 4,
 "nbformat_minor": 2
}
